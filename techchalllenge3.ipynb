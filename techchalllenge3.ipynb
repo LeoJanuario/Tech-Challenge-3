{
  "nbformat": 4,
  "nbformat_minor": 0,
  "metadata": {
    "colab": {
      "provenance": [],
      "include_colab_link": true
    },
    "kernelspec": {
      "name": "python3",
      "display_name": "Python 3"
    },
    "language_info": {
      "name": "python"
    }
  },
  "cells": [
    {
      "cell_type": "markdown",
      "metadata": {
        "id": "view-in-github",
        "colab_type": "text"
      },
      "source": [
        "<a href=\"https://colab.research.google.com/github/LeoJanuario/Tech-Challenge-3/blob/main/techchalllenge3.ipynb\" target=\"_parent\"><img src=\"https://colab.research.google.com/assets/colab-badge.svg\" alt=\"Open In Colab\"/></a>"
      ]
    },
    {
      "cell_type": "markdown",
      "source": [
        "Obtém dados da API"
      ],
      "metadata": {
        "id": "-4VxYXnGGaUU"
      }
    },
    {
      "cell_type": "code",
      "execution_count": null,
      "metadata": {
        "colab": {
          "base_uri": "https://localhost:8080/"
        },
        "id": "xTfU7-erJOuT",
        "outputId": "0fc9f95f-4e68-40dd-8f55-c9cffcf6c926"
      },
      "outputs": [
        {
          "output_type": "stream",
          "name": "stdout",
          "text": [
            "     moeda        data  media_preco_diaria  media_market_cap_diaria  \\\n",
            "0  bitcoin  2025-04-11       491100.064648             9.751007e+12   \n",
            "1  bitcoin  2025-04-12       493188.916897             9.789977e+12   \n",
            "2  bitcoin  2025-04-13       495617.880087             9.837817e+12   \n",
            "3  bitcoin  2025-04-14       496275.704556             9.852151e+12   \n",
            "4  bitcoin  2025-04-15       499219.055380             9.909780e+12   \n",
            "\n",
            "   media_volume_diaria   preco_amanha  alta_amanha  \n",
            "0         2.299170e+11  493188.916897            1  \n",
            "1         1.779885e+11  495617.880087            1  \n",
            "2         1.506487e+11  496275.704556            1  \n",
            "3         1.858712e+11  499219.055380            1  \n",
            "4         1.633237e+11  494756.554933            0  \n",
            "\n",
            "Total de registros: 225\n"
          ]
        }
      ],
      "source": [
        "import pandas as pd\n",
        "import requests\n",
        "\n",
        "#Coleta dados da API da AWS\n",
        "url = 'https://6gt6hotdph.execute-api.us-east-1.amazonaws.com/Prod/GetCoinData'\n",
        "response = requests.get(url)\n",
        "data = response.json()\n",
        "df = pd.DataFrame(data)\n",
        "\n",
        "#Converter timestamps\n",
        "df['timestamp'] = pd.to_datetime(df['timestamp'])\n",
        "df['data'] = df['timestamp'].dt.date\n",
        "\n",
        "#Calcula médias diárias por moeda\n",
        "df_cripto = df.groupby(['moeda', 'data']).agg({\n",
        "    'preco': 'mean',\n",
        "    'market_cap': 'mean',\n",
        "    'volume': 'mean'\n",
        "}).reset_index()\n",
        "\n",
        "df_cripto = df_cripto.rename(columns={\n",
        "    'preco': 'media_preco_diaria',\n",
        "    'market_cap': 'media_market_cap_diaria',\n",
        "    'volume': 'media_volume_diaria'\n",
        "})\n",
        "\n",
        "#Calcular preco_amanha (preço médio do dia seguinte)\n",
        "df_cripto['preco_amanha'] = df_cripto.groupby('moeda')['media_preco_diaria'].shift(-1)\n",
        "\n",
        "#Coluna alta_amanha (1 se preco_amanha > preco hoje)\n",
        "df_cripto['alta_amanha'] = (df_cripto['preco_amanha'] > df_cripto['media_preco_diaria']).astype(int)\n",
        "\n",
        "\n",
        "print(df_cripto.head())\n",
        "print(f'\\nTotal de registros: {len(df_cripto)}')\n"
      ]
    },
    {
      "cell_type": "markdown",
      "source": [
        "Treina o modelo CatBoostRegressor e CatBoostClassifier\n",
        "\n"
      ],
      "metadata": {
        "id": "RM5tJCbOMTcn"
      }
    },
    {
      "cell_type": "code",
      "source": [
        "!pip install catboost\n",
        "import pandas as pd\n",
        "import numpy as np\n",
        "from catboost import CatBoostRegressor, CatBoostClassifier, Pool\n",
        "from sklearn.model_selection import train_test_split\n",
        "from sklearn.metrics import mean_squared_error, accuracy_score\n",
        "\n",
        "categorical_cols = ['moeda']\n",
        "numerical_cols = ['media_preco_diaria', 'media_market_cap_diaria', 'media_volume_diaria']\n",
        "\n",
        "df_model = df_cripto.dropna(subset=['preco_amanha', 'alta_amanha'])\n",
        "\n",
        "X = df_model[categorical_cols + numerical_cols]\n",
        "y_reg = df_model['preco_amanha']\n",
        "y_class = df_model['alta_amanha']\n",
        "\n",
        "#Treino e teste\n",
        "X_train, X_test, y_reg_train, y_reg_test, y_class_train, y_class_test = train_test_split(\n",
        "    X, y_reg, y_class, test_size=0.2, random_state=42\n",
        ")\n",
        "\n",
        "#CatBoost regressão e classificação\n",
        "train_pool_reg = Pool(X_train, y_reg_train, cat_features=categorical_cols)\n",
        "test_pool_reg = Pool(X_test, y_reg_test, cat_features=categorical_cols)\n",
        "\n",
        "train_pool_class = Pool(X_train, y_class_train, cat_features=categorical_cols)\n",
        "test_pool_class = Pool(X_test, y_class_test, cat_features=categorical_cols)\n",
        "\n",
        "#Modelo de regressão\n",
        "model_reg = CatBoostRegressor(\n",
        "    iterations=500,\n",
        "    learning_rate=0.1,\n",
        "    depth=6,\n",
        "    loss_function='RMSE',\n",
        "    eval_metric='RMSE',\n",
        "    early_stopping_rounds=50,\n",
        "    verbose=100,\n",
        "    random_seed=42\n",
        ")\n",
        "model_reg.fit(train_pool_reg, eval_set=test_pool_reg, use_best_model=True)\n",
        "\n",
        "#Modelo de classificação\n",
        "model_class = CatBoostClassifier(\n",
        "    iterations=500,\n",
        "    learning_rate=0.1,\n",
        "    depth=6,\n",
        "    loss_function='Logloss',\n",
        "    eval_metric='Accuracy',\n",
        "    early_stopping_rounds=50,\n",
        "    verbose=100,\n",
        "    random_seed=42\n",
        ")\n",
        "model_class.fit(train_pool_class, eval_set=test_pool_class, use_best_model=True)\n",
        "\n",
        "y_reg_pred = model_reg.predict(X_test)\n",
        "y_class_pred = model_class.predict(X_test)\n",
        "\n",
        "#Conclusões\n",
        "rmse = mean_squared_error(y_reg_test, y_reg_pred)\n",
        "rmse = np.sqrt(rmse)\n",
        "\n",
        "print(f\"Regressão - RMSE: {rmse:.2f}\")\n",
        "\n",
        "accuracy = accuracy_score(y_class_test, y_class_pred)\n",
        "print(f\"Classificação - Acurácia: {accuracy:.2%}\")"
      ],
      "metadata": {
        "colab": {
          "base_uri": "https://localhost:8080/"
        },
        "id": "vhk_kf0QsvgF",
        "outputId": "06861617-192e-4628-947b-03f027abd590"
      },
      "execution_count": null,
      "outputs": [
        {
          "output_type": "stream",
          "name": "stdout",
          "text": [
            "Requirement already satisfied: catboost in /usr/local/lib/python3.11/dist-packages (1.2.8)\n",
            "Requirement already satisfied: graphviz in /usr/local/lib/python3.11/dist-packages (from catboost) (0.20.3)\n",
            "Requirement already satisfied: matplotlib in /usr/local/lib/python3.11/dist-packages (from catboost) (3.10.0)\n",
            "Requirement already satisfied: numpy<3.0,>=1.16.0 in /usr/local/lib/python3.11/dist-packages (from catboost) (2.0.2)\n",
            "Requirement already satisfied: pandas>=0.24 in /usr/local/lib/python3.11/dist-packages (from catboost) (2.2.2)\n",
            "Requirement already satisfied: scipy in /usr/local/lib/python3.11/dist-packages (from catboost) (1.15.3)\n",
            "Requirement already satisfied: plotly in /usr/local/lib/python3.11/dist-packages (from catboost) (5.24.1)\n",
            "Requirement already satisfied: six in /usr/local/lib/python3.11/dist-packages (from catboost) (1.17.0)\n",
            "Requirement already satisfied: python-dateutil>=2.8.2 in /usr/local/lib/python3.11/dist-packages (from pandas>=0.24->catboost) (2.9.0.post0)\n",
            "Requirement already satisfied: pytz>=2020.1 in /usr/local/lib/python3.11/dist-packages (from pandas>=0.24->catboost) (2025.2)\n",
            "Requirement already satisfied: tzdata>=2022.7 in /usr/local/lib/python3.11/dist-packages (from pandas>=0.24->catboost) (2025.2)\n",
            "Requirement already satisfied: contourpy>=1.0.1 in /usr/local/lib/python3.11/dist-packages (from matplotlib->catboost) (1.3.2)\n",
            "Requirement already satisfied: cycler>=0.10 in /usr/local/lib/python3.11/dist-packages (from matplotlib->catboost) (0.12.1)\n",
            "Requirement already satisfied: fonttools>=4.22.0 in /usr/local/lib/python3.11/dist-packages (from matplotlib->catboost) (4.58.0)\n",
            "Requirement already satisfied: kiwisolver>=1.3.1 in /usr/local/lib/python3.11/dist-packages (from matplotlib->catboost) (1.4.8)\n",
            "Requirement already satisfied: packaging>=20.0 in /usr/local/lib/python3.11/dist-packages (from matplotlib->catboost) (24.2)\n",
            "Requirement already satisfied: pillow>=8 in /usr/local/lib/python3.11/dist-packages (from matplotlib->catboost) (11.2.1)\n",
            "Requirement already satisfied: pyparsing>=2.3.1 in /usr/local/lib/python3.11/dist-packages (from matplotlib->catboost) (3.2.3)\n",
            "Requirement already satisfied: tenacity>=6.2.0 in /usr/local/lib/python3.11/dist-packages (from plotly->catboost) (9.1.2)\n",
            "0:\tlearn: 206427.4173418\ttest: 172866.3746517\tbest: 172866.3746517 (0)\ttotal: 1.63ms\tremaining: 815ms\n",
            "100:\tlearn: 5122.2784473\ttest: 10843.9296927\tbest: 10801.6288055 (98)\ttotal: 115ms\tremaining: 456ms\n",
            "200:\tlearn: 2284.4082008\ttest: 9955.7651703\tbest: 9955.7651703 (200)\ttotal: 233ms\tremaining: 347ms\n",
            "Stopped by overfitting detector  (50 iterations wait)\n",
            "\n",
            "bestTest = 9930.641059\n",
            "bestIteration = 222\n",
            "\n",
            "Shrink model to first 223 iterations.\n",
            "0:\tlearn: 0.6136364\ttest: 0.5000000\tbest: 0.5000000 (0)\ttotal: 1.85ms\tremaining: 923ms\n",
            "Stopped by overfitting detector  (50 iterations wait)\n",
            "\n",
            "bestTest = 0.5\n",
            "bestIteration = 0\n",
            "\n",
            "Shrink model to first 1 iterations.\n",
            "Regressão - RMSE: 9930.64\n",
            "Classificação - Acurácia: 50.00%\n"
          ]
        }
      ]
    },
    {
      "cell_type": "markdown",
      "source": [
        "Previsão"
      ],
      "metadata": {
        "id": "YrB8v5cVNp8x"
      }
    },
    {
      "cell_type": "code",
      "source": [
        "def prever_moeda(moeda_nome, df, model_reg, model_class):\n",
        "\n",
        "    #Filtra o dataframe para pegar os dados mais recentes da moeda\n",
        "    df_moeda = df[df['moeda'].str.lower() == moeda_nome.lower()].sort_values('data')\n",
        "\n",
        "    if df_moeda.empty:\n",
        "        return f\"Moeda '{moeda_nome}' não encontrada no dataset.\"\n",
        "\n",
        "    #Última linha do histórico\n",
        "    ultima_linha = df_moeda.iloc[-1]\n",
        "    preco_atual = ultima_linha['media_preco_diaria']\n",
        "\n",
        "    #Monta o input para o modelo\n",
        "    X_novo = pd.DataFrame([{\n",
        "        'moeda': ultima_linha['moeda'],\n",
        "        'media_preco_diaria': ultima_linha['media_preco_diaria'],\n",
        "        'media_market_cap_diaria': ultima_linha['media_market_cap_diaria'],\n",
        "        'media_volume_diaria': ultima_linha['media_volume_diaria']\n",
        "    }])\n",
        "\n",
        "    #Previsão\n",
        "    preco_estimado = model_reg.predict(X_novo)[0]\n",
        "    tendencia_pred = model_class.predict(X_novo)[0]\n",
        "\n",
        "    #Corrige a tendência com base no valor estimado vs atual\n",
        "    if preco_estimado > preco_atual:\n",
        "        tendencia_str = 'Subir'\n",
        "        variacao = ((preco_estimado - preco_atual) / preco_atual) * 100\n",
        "    else:\n",
        "        tendencia_str = 'Descer'\n",
        "        variacao = ((preco_estimado - preco_atual) / preco_atual) * 100\n",
        "\n",
        "    return (\n",
        "        f\"A tendência da '{moeda_nome}' é {tendencia_str}. \"\n",
        "        f\"Estimativa de preço: R$ {preco_estimado:,.2f} \"\n",
        "        f\"({variacao:+.2f}%)\"\n",
        "    )\n"
      ],
      "metadata": {
        "id": "GXqyELEXt_Bj"
      },
      "execution_count": null,
      "outputs": []
    },
    {
      "cell_type": "markdown",
      "source": [
        "Resultados"
      ],
      "metadata": {
        "id": "KIzkts1oNtJZ"
      }
    },
    {
      "cell_type": "code",
      "source": [
        "from datetime import timedelta\n",
        "import pandas as pd\n",
        "\n",
        "#Bitcoin\n",
        "df_btc = df_cripto[df_cripto['moeda'].str.lower() == 'bitcoin'].copy()\n",
        "df_btc['data'] = pd.to_datetime(df_btc['data'])\n",
        "df_btc = df_btc.sort_values('data')\n",
        "\n",
        "ultima_linha = df_btc.iloc[-1]\n",
        "data_ultima_disponivel = ultima_linha['data'].date()\n",
        "preco_medio_ultimo_dia = ultima_linha['media_preco_diaria']\n",
        "data_previsao = data_ultima_disponivel + timedelta(days=1)\n",
        "\n",
        "print(f\"Último dado disponível {data_ultima_disponivel}: Preço médio = R$ {preco_medio_ultimo_dia:,.2f}\")\n",
        "\n",
        "moeda = 'bitcoin'\n",
        "resultado = prever_moeda(moeda, df_cripto, model_reg, model_class)\n",
        "print(f\"Previsão para o dia: {data_previsao.strftime('%Y-%m-%d')}: {resultado}\")\n"
      ],
      "metadata": {
        "colab": {
          "base_uri": "https://localhost:8080/"
        },
        "id": "BKzCdUsXueVn",
        "outputId": "ac4f996e-e6f4-4e6c-b3dd-0209fe3a0103"
      },
      "execution_count": null,
      "outputs": [
        {
          "output_type": "stream",
          "name": "stdout",
          "text": [
            "Último dado disponível 2025-05-25: Preço médio = R$ 607,959.22\n",
            "Previsão para o dia: 2025-05-26: A tendência da 'bitcoin' é Descer. Estimativa de preço: R$ 596,715.36 (-1.85%)\n"
          ]
        }
      ]
    }
  ]
}